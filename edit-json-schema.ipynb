{
 "cells": [
  {
   "cell_type": "code",
   "execution_count": 1,
   "metadata": {
    "collapsed": true
   },
   "outputs": [],
   "source": [
    "import sys,os\n",
    "import json\n",
    "import yaml\n",
    "import io\n",
    "import argparse\n",
    "import numpy as np\n",
    "import pandas as pd"
   ]
  },
  {
   "cell_type": "code",
   "execution_count": 19,
   "metadata": {
    "collapsed": true
   },
   "outputs": [],
   "source": [
    "if __name__==__main__:\n",
    "    parser = argparse.ArgumentParser()\n",
    "    parser.add_argument('input_yaml',help=\"name of input file yaml\")\n",
    "    parser.add_argument('aws_key',help=\"aws key information\")\n",
    "    parser.add_argument('aws_secret',help=\"aws secret information\")\n",
    "    args = parser.parse_args()\n",
    "\n",
    "    with open(args.input_yaml) as template_json:\n",
    "        template = json.load(=jayson)\n"
   ]
  },
  {
   "cell_type": "code",
   "execution_count": 20,
   "metadata": {},
   "outputs": [
    {
     "data": {
      "text/plain": [
       "{'affiliation': {'history': [{'category': '',\n",
       "    'end': '',\n",
       "    'highlights': [],\n",
       "    'keywords': [],\n",
       "    'location': '',\n",
       "    'organization': '',\n",
       "    'role': '',\n",
       "    'start': '',\n",
       "    'summary': '',\n",
       "    'url': ''}],\n",
       "  'summary': ''},\n",
       " 'contact': {'email': '', 'other': [], 'phone': '', 'website': ''},\n",
       " 'disposition': {'authorization': '',\n",
       "  'commitment': [],\n",
       "  'relocation': {'destinations': [], 'willing': False},\n",
       "  'remote': False,\n",
       "  'travel': 0},\n",
       " 'education': {'degree': '',\n",
       "  'history': [{'area': '',\n",
       "    'curriculum': [],\n",
       "    'end': '',\n",
       "    'grade': '',\n",
       "    'highlights': [],\n",
       "    'institution': '',\n",
       "    'keywords': [],\n",
       "    'location': '',\n",
       "    'start': '',\n",
       "    'studyType': '',\n",
       "    'summary': '',\n",
       "    'title': '',\n",
       "    'url': ''}],\n",
       "  'level': '',\n",
       "  'summary': '',\n",
       "  'title': ''},\n",
       " 'employment': {'history': [{'employer': '',\n",
       "    'end': '',\n",
       "    'highlights': [],\n",
       "    'keywords': [],\n",
       "    'position': '',\n",
       "    'start': '',\n",
       "    'summary': '',\n",
       "    'url': ''}],\n",
       "  'summary': ''},\n",
       " 'extracurricular': [{'activity': '',\n",
       "   'end': '',\n",
       "   'location': '',\n",
       "   'start': '',\n",
       "   'title': ''}],\n",
       " 'governance': [{'category': '',\n",
       "   'end': '',\n",
       "   'highlights': [],\n",
       "   'keywords': [],\n",
       "   'organization': '',\n",
       "   'role': '',\n",
       "   'start': '',\n",
       "   'summary': ''}],\n",
       " 'info': {'brief': '', 'characterClass': '', 'image': '', 'label': ''},\n",
       " 'interests': [{'keywords': [], 'name': '', 'summary': ''}],\n",
       " 'languages': [{'language': '', 'level': '', 'years': 0}],\n",
       " 'location': {'address': '',\n",
       "  'city': '',\n",
       "  'code': '',\n",
       "  'country': '',\n",
       "  'region': ''},\n",
       " 'meta': {'format': 'FRESH@0.6.0', 'version': '0.1.0'},\n",
       " 'name': '',\n",
       " 'projects': [{'description': '',\n",
       "   'highlights': [],\n",
       "   'keywords': [],\n",
       "   'media': [],\n",
       "   'repo': '',\n",
       "   'role': '',\n",
       "   'summary': '',\n",
       "   'title': '',\n",
       "   'url': ''}],\n",
       " 'reading': [{'author': '',\n",
       "   'category': '',\n",
       "   'date': '',\n",
       "   'summary': '',\n",
       "   'title': '',\n",
       "   'url': ''}],\n",
       " 'recognition': [{'category': '',\n",
       "   'date': '',\n",
       "   'from': '',\n",
       "   'summary': '',\n",
       "   'title': '',\n",
       "   'url': ''}],\n",
       " 'references': [{'category': '',\n",
       "   'contact': [{'category': '', 'label': '', 'value': ''}],\n",
       "   'name': '',\n",
       "   'private': True,\n",
       "   'role': '',\n",
       "   'summary': ''}],\n",
       " 'samples': [{'date': '',\n",
       "   'highlights': [],\n",
       "   'keywords': [],\n",
       "   'summary': '',\n",
       "   'title': '',\n",
       "   'url': ''}],\n",
       " 'service': {'history': [{'category': '',\n",
       "    'end': '',\n",
       "    'highlights': [],\n",
       "    'organization': '',\n",
       "    'position': '',\n",
       "    'start': '',\n",
       "    'summary': '',\n",
       "    'url': ''}],\n",
       "  'summary': ''},\n",
       " 'skills': {'list': [], 'sets': [{'level': '', 'name': '', 'skills': []}]},\n",
       " 'social': [{'label': '', 'network': '', 'url': '', 'user': ''}],\n",
       " 'speaking': [{'date': '',\n",
       "   'event': '',\n",
       "   'highlights': [],\n",
       "   'keywords': [],\n",
       "   'location': '',\n",
       "   'summary': '',\n",
       "   'title': ''}],\n",
       " 'testimonials': [{'category': '', 'name': '', 'private': False, 'quote': ''}],\n",
       " 'writing': [{'category': '',\n",
       "   'date': '',\n",
       "   'publisher': {'name': '', 'url': ''},\n",
       "   'summary': '',\n",
       "   'title': '',\n",
       "   'url': ''}]}"
      ]
     },
     "execution_count": 20,
     "metadata": {},
     "output_type": "execute_result"
    }
   ],
   "source": [
    "yaml.load(json.dumps(template))"
   ]
  },
  {
   "cell_type": "code",
   "execution_count": 21,
   "metadata": {
    "collapsed": true
   },
   "outputs": [],
   "source": [
    "stream = file('fresh-resume-template.yaml','wb')"
   ]
  },
  {
   "cell_type": "code",
   "execution_count": 22,
   "metadata": {
    "collapsed": true
   },
   "outputs": [],
   "source": [
    "yaml.dump(yaml.load(json.dumps(template)),stream)"
   ]
  }
 ],
 "metadata": {
  "kernelspec": {
   "display_name": "Python 2",
   "language": "python",
   "name": "python2"
  },
  "language_info": {
   "codemirror_mode": {
    "name": "ipython",
    "version": 2
   },
   "file_extension": ".py",
   "mimetype": "text/x-python",
   "name": "python",
   "nbconvert_exporter": "python",
   "pygments_lexer": "ipython2",
   "version": "2.7.12"
  }
 },
 "nbformat": 4,
 "nbformat_minor": 1
}
