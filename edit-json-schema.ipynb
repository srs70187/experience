{
 "cells": [
  {
   "cell_type": "code",
   "execution_count": 4,
   "metadata": {
    "collapsed": true
   },
   "outputs": [],
   "source": [
    "import sys,os\n",
    "import json\n",
    "import yaml\n",
    "import io\n",
    "import numpy as np\n",
    "import pandas as pd"
   ]
  },
  {
   "cell_type": "code",
   "execution_count": 12,
   "metadata": {
    "collapsed": false
   },
   "outputs": [],
   "source": [
    "with open('resume_template.json') as jayson:\n",
    "    template = json.load(jayson)\n"
   ]
  },
  {
   "cell_type": "code",
   "execution_count": 22,
   "metadata": {
    "collapsed": false
   },
   "outputs": [
    {
     "data": {
      "text/plain": [
       "'{\"interests\": [{\"keywords\": [\"Ferrets\", \"Unicorns\"], \"name\": \"Wildlife\"}], \"basics\": {\"website\": \"http://richardhendricks.com\", \"picture\": \"\", \"name\": \"test\", \"profiles\": [{\"username\": \"neutralthoughts\", \"url\": \"\", \"network\": \"Twitter\"}, {\"username\": \"dandymusicnl\", \"url\": \"https://soundcloud.com/dandymusicnl\", \"network\": \"SoundCloud\"}], \"label\": \"Programmer\", \"phone\": \"(912) 555-4321\", \"location\": {\"postalCode\": \"CA 94115\", \"city\": \"San Francisco\", \"region\": \"California\", \"countryCode\": \"US\", \"address\": \"2712 Broadway St\"}, \"summary\": \"Richard hails from Tulsa. He has earned degrees from the University of Oklahoma and Stanford. (Go Sooners and Cardinals!) Before starting Pied Piper, he worked for Hooli as a part time software developer. While his work focuses on applied information theory, mostly optimizing lossless compression schema of both the length-limited and adaptive variants, his non-work interests range widely, everything from quantum computing to chaos theory. He could tell you about it, but THAT would NOT be a \\\\u201clength-limited\\\\u201d conversation!\", \"email\": \"test4@test.com\"}, \"skills\": [{\"keywords\": [\"HTML\", \"CSS\", \"Javascript\"], \"name\": \"Web Development\", \"level\": \"Master\"}, {\"keywords\": [\"Mpeg\", \"MP4\", \"GIF\"], \"name\": \"Compression\", \"level\": \"Master\"}], \"work\": [{\"website\": \"http://piedpiper.com\", \"startDate\": \"2013-12-01\", \"endDate\": \"2014-12-01\", \"highlights\": [\"Build an algorithm for artist to detect if their music was violating copy right infringement laws\", \"Successfully won Techcrunch Disrupt\", \"Optimized an algorithm that holds the current world record for Weisman Scores\"], \"company\": \"Pied Piper\", \"summary\": \"Pied Piper is a multi-platform technology based on a proprietary universal compression algorithm that has consistently fielded high Weisman Scores\\\\u2122 that are not merely competitive, but approach the theoretical limit of lossless compression.\", \"position\": \"CEO/President\"}], \"languages\": [{\"fluency\": \"Native speaker\", \"language\": \"English\"}], \"awards\": [{\"date\": \"2014-11-01\", \"awarder\": \"Techcrunch\", \"summary\": \"There is no spoon.\", \"title\": \"Digital Compression Pioneer Award\"}], \"publications\": [{\"releaseDate\": \"2014-10-01\", \"publisher\": \"Hooli\", \"website\": \"http://en.wikipedia.org/wiki/Silicon_Valley_(TV_series)\", \"name\": \"Video compression for 3d media\", \"summary\": \"Innovative middle-out compression algorithm that changes the way we store data.\"}], \"references\": [{\"name\": \"Erlich Bachman\", \"reference\": \"It is my pleasure to recommend Richard, his performance working as a consultant for Main St. Company proved that he will be a valuable addition to any company.\"}], \"education\": [{\"startDate\": \"2011-06-01\", \"endDate\": \"2014-01-01\", \"area\": \"Information Technology\", \"gpa\": \"4.0\", \"courses\": [\"DB1101 - Basic SQL\", \"CS2011 - Java Introduction\"], \"institution\": \"University of Oklahoma\", \"studyType\": \"Bachelor\"}], \"volunteer\": [{\"website\": \"http://coderdojo.com/\", \"startDate\": \"2012-01-01\", \"endDate\": \"2013-01-01\", \"highlights\": [\"Awarded \\'Teacher of the Month\\'\"], \"summary\": \"Global movement of free coding clubs for young people.\", \"position\": \"Teacher\", \"organization\": \"CoderDojo\"}]}'"
      ]
     },
     "execution_count": 22,
     "metadata": {},
     "output_type": "execute_result"
    }
   ],
   "source": [
    "json.dumps(template)"
   ]
  },
  {
   "cell_type": "code",
   "execution_count": null,
   "metadata": {
    "collapsed": true
   },
   "outputs": [],
   "source": [
    "yaml.load(json.dumps(template))"
   ]
  },
  {
   "cell_type": "code",
   "execution_count": 27,
   "metadata": {
    "collapsed": false
   },
   "outputs": [],
   "source": [
    "stream = file('resume_outline.yaml','w')"
   ]
  },
  {
   "cell_type": "code",
   "execution_count": 28,
   "metadata": {
    "collapsed": false
   },
   "outputs": [],
   "source": [
    "yaml.dump(yaml.load(json.dumps(template)),stream)"
   ]
  }
 ],
 "metadata": {
  "kernelspec": {
   "display_name": "Python 2",
   "language": "python",
   "name": "python2"
  },
  "language_info": {
   "codemirror_mode": {
    "name": "ipython",
    "version": 2
   },
   "file_extension": ".py",
   "mimetype": "text/x-python",
   "name": "python",
   "nbconvert_exporter": "python",
   "pygments_lexer": "ipython2",
   "version": "2.7.12"
  }
 },
 "nbformat": 4,
 "nbformat_minor": 1
}
